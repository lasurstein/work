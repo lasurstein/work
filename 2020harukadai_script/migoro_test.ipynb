{
 "cells": [
  {
   "cell_type": "code",
   "execution_count": 2,
   "metadata": {},
   "outputs": [],
   "source": [
    "# 必要ライブラリ\n",
    "import numpy as np\n",
    "import matplotlib.pyplot as plt\n",
    "from statistics import mean, median,variance,stdev\n",
    "import datetime as dt\n",
    "import burst_detection as bd\n",
    "import numpy as np"
   ]
  },
  {
   "cell_type": "code",
   "execution_count": 3,
   "metadata": {},
   "outputs": [],
   "source": [
    "#テキスト日付をdate日付にする\n",
    "def text_date_to_date(l):\n",
    "    if l[0] <= 9:\n",
    "        m = '0' + str( l[0] )\n",
    "    else:\n",
    "        m = str( l[0] )\n",
    "    if l[1] <= 9:\n",
    "        d = '0' + str( l[1] )\n",
    "    else:\n",
    "        d = str( l[1] )\n",
    "    \n",
    "    d = m + '/' + d + '/2015'\n",
    "    date = dt.datetime.strptime(d, '%m/%d/%Y').date()\n",
    "    return(date)"
   ]
  },
  {
   "cell_type": "code",
   "execution_count": 4,
   "metadata": {},
   "outputs": [],
   "source": [
    "def convert_list(lines):\n",
    "    list_d = []\n",
    "    for line in lines:\n",
    "        l_list = line.split('\\t')\n",
    "        list_d.append( [ int(l_list[0]), int(l_list[1]), int(l_list[2]) ] )\n",
    "        \n",
    "    return(list_d)"
   ]
  },
  {
   "cell_type": "code",
   "execution_count": 5,
   "metadata": {},
   "outputs": [],
   "source": [
    "def date_hit_list(list_d):\n",
    "    list_date_hit = []\n",
    "    dates = []\n",
    "    hits = []\n",
    "    for i, l in enumerate(list_d):\n",
    "        date = text_date_to_date(l) \n",
    "        dates.append( date )\n",
    "        hits.append( l[2] )\n",
    "    list_date_hit.append(dates)\n",
    "    list_date_hit.append(hits)\n",
    "    return(list_date_hit)"
   ]
  },
  {
   "cell_type": "code",
   "execution_count": 6,
   "metadata": {},
   "outputs": [],
   "source": [
    "def daterange(start, end):\n",
    "  for n in range((end - start).days):\n",
    "    yield start + timedelta(n)"
   ]
  },
  {
   "cell_type": "markdown",
   "metadata": {},
   "source": [
    "## kleinbergのバースト"
   ]
  },
  {
   "cell_type": "code",
   "execution_count": 11,
   "metadata": {},
   "outputs": [],
   "source": [
    "# 検出したバーストをプロットする\n",
    "def plot_burst(q, dates):\n",
    "    correct = []\n",
    "    for date in dates:\n",
    "        if date > CORRECT_START and date < CORRECT_END:\n",
    "            correct.append(1)\n",
    "        else:\n",
    "            correct.append(0)\n",
    "    y_correct = np.array(correct[20:90])\n",
    "\n",
    "    x_date = np.array(dates[20:90])\n",
    "    y_burst = q.T[0][20:90]\n",
    "\n",
    "    fig = plt.figure(figsize=(10,4),dpi=150)\n",
    "    ax = fig.add_subplot(1, 1, 1)\n",
    "    plt.tight_layout()\n",
    "    plt.yticks( [0, 1] )\n",
    "    ax.xaxis.set_major_locator(mdates.DayLocator(bymonthday=None, interval=7, tz=None))\n",
    "    ax.xaxis.set_major_formatter(mdates.DateFormatter(\"%m/%d\"))\n",
    "\n",
    "    plt.plot(x_date, y_burst, linewidth=3.0)\n",
    "    plt.plot(x_date, y_correct, linewidth=3.0)\n",
    "\n",
    "    #plt.xlabel('date')\n",
    "    plt.ylabel('burst')\n",
    "\n",
    "    plt.tight_layout()\n",
    "\n",
    "    ax.tick_params(axis='both',labelsize=18)\n",
    "    fig.autofmt_xdate()\n",
    "    fig.text(0.12, 0.4, \"rate = \" + str(rate), fontsize=30)\n",
    "\n",
    "    # 保存\n",
    "    pngname = 'hk_burst.png'\n",
    "    plt.savefig(pngname)\n",
    "\n",
    "    plt.show()"
   ]
  },
  {
   "cell_type": "code",
   "execution_count": 29,
   "metadata": {},
   "outputs": [],
   "source": [
    "千# バースト検出\n",
    "def burst_detection(list_d, list_d_all, dates):\n",
    "    #x軸を作成（日付），y軸を作成（件数），\n",
    "    d = date_hit_list(list_d)\n",
    "    dates = d[0]\n",
    "    hits = d[1]\n",
    "\n",
    "    d_all = date_hit_list(list_d_all)\n",
    "    # dates_all = date_hit_list_all[0]\n",
    "    hits_all = d_all[1]\n",
    "    \n",
    "    #number of target events at each time point\n",
    "    r = np.array(hits, dtype=float)\n",
    "    #total number of events at each time point\n",
    "    d = np.array(hits_all, dtype=float)\n",
    "    #number of time points\n",
    "    n = len(r)\n",
    "\n",
    "    q, d, r, p = bd.burst_detection(r,d,n,s=2,gamma=1,smooth_win=1)\n",
    "    bursts = bd.enumerate_bursts(q, 'burstLabel')\n",
    "\n",
    "    #find weight of bursts\n",
    "    weighted_bursts = bd.burst_weights(bursts,r,d,p)\n",
    "\n",
    "    print('observed probabilities: ')\n",
    "    # print(str(r/d) )\n",
    "\n",
    "    print( 'optimal state sequence: ')\n",
    "    print(str(q.T) )\n",
    "\n",
    "    print( 'baseline probability: ' + str(p[0]) )\n",
    "\n",
    "    print( 'bursty probability: ' + str(p[1]) )\n",
    "\n",
    "    print( 'weighted bursts:' )\n",
    "    print( weighted_bursts)\n",
    "    print(weighted_bursts.iloc[2, 1])\n",
    "    \n",
    "    plot_burst(q, dates)\n",
    "    \n",
    "    return(weighted_bursts)"
   ]
  },
  {
   "cell_type": "code",
   "execution_count": 10,
   "metadata": {},
   "outputs": [],
   "source": [
    "# バーストと正解期間から求めたF値をプロット\n",
    "def eva_plot(fscore):\n",
    "    fig = plt.figure(figsize=(10,10),dpi=150)\n",
    "    ax = fig.add_subplot(1, 1, 1)\n",
    "\n",
    "    x = [], y = []\n",
    "    \n",
    "    y.append(fscore)\n",
    "    x.append(rate)\n",
    "\n",
    "    ax_x = np.array(x)\n",
    "    ax_y = np.array(y)\n",
    "\n",
    "    label = 'Relation'\n",
    "    plt.plot(ax_x, ax_y, label = label,  linewidth = 3.0)  \n",
    "    plt.tight_layout()\n",
    "    plt.rcParams[\"font.size\"] = 18\n",
    "\n",
    "    plt.xlabel('percent')\n",
    "    plt.ylabel('F-score')\n",
    "\n",
    "    ax.tick_params(axis='both',labelsize=18)\n",
    "    fig.autofmt_xdate()\n",
    "    \n",
    "    # 保存\n",
    "    plt.savefig(pid + \"_relation_fscore.pdf\")\n",
    "\n",
    "    plt.show()"
   ]
  },
  {
   "cell_type": "code",
   "execution_count": 30,
   "metadata": {},
   "outputs": [],
   "source": [
    "#　検出したバースト期間の評価\n",
    "def eva(dates, correct, weighted_bursts):\n",
    "    corrects = dates[CORRECT_START:CORRECT_END] \n",
    "    bursts = []\n",
    "    for i in range(0, weighted_bursts):\n",
    "        bursts.extend(dates[[weighted_bursts.iloc[i, 1]] : [weighted_bursts.iloc[i, 2]]])\n",
    "                            \n",
    "    period = corrects + bursts\n",
    "    START_DATE = min(period)\n",
    "    END_DATE = max(period)\n",
    "\n",
    "    tp, fn, fp = 0, 0, 0\n",
    "    for date in daterange(START_DATE, END_DATE):\n",
    "        if date in corrects :\n",
    "            if date in bursts:\n",
    "                tp = tp + 1\n",
    "            else :\n",
    "                fn = fn + 1\n",
    "        elif date in bursts:\n",
    "            fp = fp + 1\n",
    "            \n",
    "    rec = tp / (tp + fn)\n",
    "    pre = tp / (tp + fp)\n",
    "    fscore = (2 * rec * pre) /(rec + pre)\n",
    "    \n",
    "    # 評価値を出す\n",
    "    print('rec', rec)\n",
    "    print('pre', pre)\n",
    "    print('F-score', fscore)\n",
    "    \n",
    "    plot_eva(fscore)\n",
    "    \n",
    "    return"
   ]
  },
  {
   "cell_type": "code",
   "execution_count": 9,
   "metadata": {},
   "outputs": [
    {
     "output_type": "error",
     "ename": "FileNotFoundError",
     "evalue": "[Errno 2] No such file or directory: 'hk_sakura_cleaning.txt'",
     "traceback": [
      "\u001b[0;31m---------------------------------------------------------------------------\u001b[0m",
      "\u001b[0;31mFileNotFoundError\u001b[0m                         Traceback (most recent call last)",
      "\u001b[0;32m<ipython-input-9-746aef25878c>\u001b[0m in \u001b[0;36m<module>\u001b[0;34m\u001b[0m\n\u001b[1;32m     11\u001b[0m \u001b[0mCORRECT_END\u001b[0m \u001b[0;34m=\u001b[0m  \u001b[0mtext_date_to_date\u001b[0m\u001b[0;34m(\u001b[0m\u001b[0;34m[\u001b[0m\u001b[0;36m5\u001b[0m\u001b[0;34m,\u001b[0m\u001b[0;36m5\u001b[0m\u001b[0;34m]\u001b[0m\u001b[0;34m)\u001b[0m\u001b[0;34m\u001b[0m\u001b[0;34m\u001b[0m\u001b[0m\n\u001b[1;32m     12\u001b[0m \u001b[0;34m\u001b[0m\u001b[0m\n\u001b[0;32m---> 13\u001b[0;31m \u001b[0mfp_h\u001b[0m \u001b[0;34m=\u001b[0m \u001b[0mopen\u001b[0m\u001b[0;34m(\u001b[0m\u001b[0msakura_tweets\u001b[0m\u001b[0;34m,\u001b[0m \u001b[0;34m\"r\"\u001b[0m\u001b[0;34m)\u001b[0m\u001b[0;34m\u001b[0m\u001b[0;34m\u001b[0m\u001b[0m\n\u001b[0m\u001b[1;32m     14\u001b[0m \u001b[0mfp_h_all\u001b[0m \u001b[0;34m=\u001b[0m \u001b[0mopen\u001b[0m\u001b[0;34m(\u001b[0m\u001b[0mall_tweets\u001b[0m\u001b[0;34m,\u001b[0m \u001b[0;34m\"r\"\u001b[0m\u001b[0;34m)\u001b[0m\u001b[0;34m\u001b[0m\u001b[0;34m\u001b[0m\u001b[0m\n\u001b[1;32m     15\u001b[0m \u001b[0mline\u001b[0m \u001b[0;34m=\u001b[0m \u001b[0mfp_h\u001b[0m\u001b[0;34m.\u001b[0m\u001b[0mreadlines\u001b[0m\u001b[0;34m(\u001b[0m\u001b[0;34m)\u001b[0m\u001b[0;34m\u001b[0m\u001b[0;34m\u001b[0m\u001b[0m\n",
      "\u001b[0;31mFileNotFoundError\u001b[0m: [Errno 2] No such file or directory: 'hk_sakura_cleaning.txt'"
     ]
    }
   ],
   "source": [
    "# データ準備\n",
    "\n",
    "sakura_tweets = \"hk_sakura_cleaning.txt\"\n",
    "all_tweets = \"hk_all_cleaning.txt\"\n",
    "\n",
    "#exts = 'soa'\n",
    "#rates = range(10, 101, 10)\n",
    "\n",
    "# correct: 桜の見頃正解期間（開花日〜満開日）\n",
    "CORRECT_START = text_date_to_date([4,30])\n",
    "CORRECT_END =  text_date_to_date([5,5])\n",
    "\n",
    "fp_h = open(sakura_tweets, \"r\")\n",
    "fp_h_all = open(all_tweets, \"r\")\n",
    "line = fp_h.readlines()\n",
    "line_all = fp_h_all.readlines()\n",
    "\n",
    "list_d = convert_list(line)\n",
    "list_d_all = convert_list(line_all)\n",
    "\n",
    "#x軸を作成（日付），y軸を作成（件数），\n",
    "d = date_hit_list(list_d)\n",
    "dates = d[0]\n",
    "hits = d[1]\n",
    "\n",
    "d_all = date_hit_list(list_d_all)\n",
    "# dates_all = date_hit_list_all[0]\n",
    "hits_all = d_all[1]\n",
    "\n",
    "fp_h.close()\n",
    "fp_h_all.close()\n",
    ""
   ]
  },
  {
   "cell_type": "code",
   "execution_count": 1,
   "metadata": {},
   "outputs": [
    {
     "output_type": "error",
     "ename": "SyntaxError",
     "evalue": "invalid character in identifier (<ipython-input-1-04eb9bcd2c2b>, line 2)",
     "traceback": [
      "\u001b[0;36m  File \u001b[0;32m\"<ipython-input-1-04eb9bcd2c2b>\"\u001b[0;36m, line \u001b[0;32m2\u001b[0m\n\u001b[0;31m    eva(dates, correct,　weighted_bursts)\u001b[0m\n\u001b[0m                       　              ^\u001b[0m\n\u001b[0;31mSyntaxError\u001b[0m\u001b[0;31m:\u001b[0m invalid character in identifier\n"
     ]
    }
   ],
   "source": [
    "burst_result = burst_detection(list_d, list_d_all, dates)\n",
    "eva(dates, correct,　weighted_bursts)"
   ]
  },
  {
   "cell_type": "code",
   "execution_count": 32,
   "metadata": {},
   "outputs": [],
   "source": [
    "# burstラベルから期間を確認する\n",
    "# dates[65:84]"
   ]
  }
 ],
 "metadata": {
  "kernelspec": {
   "display_name": "Python 3",
   "language": "python",
   "name": "python3"
  },
  "language_info": {
   "codemirror_mode": {
    "name": "ipython",
    "version": 3
   },
   "file_extension": ".py",
   "mimetype": "text/x-python",
   "name": "python",
   "nbconvert_exporter": "python",
   "pygments_lexer": "ipython3",
   "version": "2.7.16-final"
  }
 },
 "nbformat": 4,
 "nbformat_minor": 2
}