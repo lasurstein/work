{
 "cells": [
  {
   "cell_type": "code",
   "execution_count": 1,
   "metadata": {},
   "outputs": [],
   "source": [
    "# 必要ライブラリ\n",
    "import numpy as np\n",
    "import matplotlib.pyplot as plt\n",
    "import matplotlib.font_manager as fm\n",
    "from statistics import mean, median,variance,stdev\n",
    "import datetime as dt\n",
    "import burst_detection as bd\n",
    "import numpy as np"
   ]
  },
  {
   "cell_type": "markdown",
   "metadata": {},
   "source": [
    "## 移動平均によるバースト"
   ]
  },
  {
   "cell_type": "code",
   "execution_count": 2,
   "metadata": {},
   "outputs": [],
   "source": [
    "#テキスト日付をdate日付にする\n",
    "def text_date_to_date(l):\n",
    "    if l[0] <= 9:\n",
    "        m = '0' + str( l[0] )\n",
    "    else:\n",
    "        m = str( l[0] )\n",
    "    if l[1] <= 9:\n",
    "        d = '0' + str( l[1] )\n",
    "    else:\n",
    "        d = str( l[1] )\n",
    "    \n",
    "    d = m + '/' + d + '/2015'\n",
    "    date = dt.datetime.strptime(d, '%m/%d/%Y').date()\n",
    "    return(date)"
   ]
  },
  {
   "cell_type": "code",
   "execution_count": 3,
   "metadata": {},
   "outputs": [],
   "source": [
    "# 移動平均\n",
    "def move_average(target, split_num):\n",
    "    ave_l = []\n",
    "    for i, l in enumerate(target):\n",
    "        if i < split_num:\n",
    "            zero_index = split_num - i\n",
    "            mean = np.mean( ( target[ 0 : i ] + np.zeros( zero_index ).tolist() ) )\n",
    "            ave_l.append( mean )\n",
    "        else:\n",
    "            mean = np.mean(target[ i - split_num : i ])\n",
    "            ave_l.append( mean )\n",
    "    return( ave_l )\n",
    "    "
   ]
  },
  {
   "cell_type": "code",
   "execution_count": 4,
   "metadata": {},
   "outputs": [],
   "source": [
    "def convert_list(lines):\n",
    "    list_d = []\n",
    "    for line in lines:\n",
    "        l_list = line.split('\\t')\n",
    "        list_d.append( [ int(l_list[0]), int(l_list[1]), int(l_list[2]) ] )\n",
    "        \n",
    "    return(list_d)"
   ]
  },
  {
   "cell_type": "code",
   "execution_count": 5,
   "metadata": {},
   "outputs": [],
   "source": [
    "def date_hit_list(list_d):\n",
    "    list_date_hit = []\n",
    "    dates = []\n",
    "    hits = []\n",
    "    for i, l in enumerate(list_d):\n",
    "        date = text_date_to_date(l) \n",
    "        dates.append( date )\n",
    "        hits.append( l[2] )\n",
    "    list_date_hit.append(dates)\n",
    "    list_date_hit.append(hits)\n",
    "    return(list_date_hit)"
   ]
  },
  {
   "cell_type": "code",
   "execution_count": 6,
   "metadata": {},
   "outputs": [
    {
     "ename": "FileNotFoundError",
     "evalue": "[Errno 2] No such file or directory: 'hk_sakura_cleaning.txt'",
     "output_type": "error",
     "traceback": [
      "\u001b[0;31m---------------------------------------------------------------------------\u001b[0m",
      "\u001b[0;31mFileNotFoundError\u001b[0m                         Traceback (most recent call last)",
      "\u001b[0;32m<ipython-input-6-5a568ee342c1>\u001b[0m in \u001b[0;36m<module>\u001b[0;34m\u001b[0m\n\u001b[1;32m      1\u001b[0m \u001b[0;31m#データ準備\u001b[0m\u001b[0;34m\u001b[0m\u001b[0;34m\u001b[0m\u001b[0;34m\u001b[0m\u001b[0m\n\u001b[0;32m----> 2\u001b[0;31m \u001b[0mfp_h\u001b[0m \u001b[0;34m=\u001b[0m \u001b[0mopen\u001b[0m\u001b[0;34m(\u001b[0m\u001b[0;34m\"hk_sakura_cleaning.txt\"\u001b[0m\u001b[0;34m,\u001b[0m \u001b[0;34m\"r\"\u001b[0m\u001b[0;34m)\u001b[0m\u001b[0;34m\u001b[0m\u001b[0;34m\u001b[0m\u001b[0m\n\u001b[0m\u001b[1;32m      3\u001b[0m \u001b[0mfp_h_all\u001b[0m \u001b[0;34m=\u001b[0m \u001b[0mopen\u001b[0m\u001b[0;34m(\u001b[0m\u001b[0;34m\"hk_all_cleaning.txt\"\u001b[0m\u001b[0;34m,\u001b[0m \u001b[0;34m\"r\"\u001b[0m\u001b[0;34m)\u001b[0m\u001b[0;34m\u001b[0m\u001b[0;34m\u001b[0m\u001b[0m\n\u001b[1;32m      4\u001b[0m \u001b[0mline\u001b[0m \u001b[0;34m=\u001b[0m \u001b[0mfp_h\u001b[0m\u001b[0;34m.\u001b[0m\u001b[0mreadlines\u001b[0m\u001b[0;34m(\u001b[0m\u001b[0;34m)\u001b[0m\u001b[0;34m\u001b[0m\u001b[0;34m\u001b[0m\u001b[0m\n\u001b[1;32m      5\u001b[0m \u001b[0mline_all\u001b[0m \u001b[0;34m=\u001b[0m \u001b[0mfp_h_all\u001b[0m\u001b[0;34m.\u001b[0m\u001b[0mreadlines\u001b[0m\u001b[0;34m(\u001b[0m\u001b[0;34m)\u001b[0m\u001b[0;34m\u001b[0m\u001b[0;34m\u001b[0m\u001b[0m\n",
      "\u001b[0;31mFileNotFoundError\u001b[0m: [Errno 2] No such file or directory: 'hk_sakura_cleaning.txt'"
     ]
    }
   ],
   "source": [
    "#データ準備\n",
    "fp_h = open(\"hk_sakura_cleaning.txt\", \"r\")\n",
    "fp_h_all = open(\"hk_all_cleaning.txt\", \"r\")\n",
    "line = fp_h.readlines()\n",
    "line_all = fp_h_all.readlines()\n",
    "\n",
    "list_d = convert_list(line)\n",
    "list_d_all = convert_list(line_all)\n",
    "\n",
    "#x軸を作成（日付），y軸を作成（件数），\n",
    "d = date_hit_list(list_d)\n",
    "dates = d[0]\n",
    "hits = d[1]\n",
    "\n",
    "d_all = date_hit_list(list_d_all)\n",
    "# dates_all = date_hit_list_all[0]\n",
    "hits_all = d_all[1]\n",
    "\n",
    "fp_h.close()\n",
    "fp_h_all.close()\n"
   ]
  },
  {
   "cell_type": "code",
   "execution_count": null,
   "metadata": {},
   "outputs": [],
   "source": [
    "CREATURE_N = 5\n",
    "STANDARD_N = 7\n",
    "\n",
    "#全体平均\n",
    "sum_d = sum([ l[2] for l in list_d ])\n",
    "len_d = len(list_d)\n",
    "print(sum_d)\n",
    "print(len_d)\n",
    "total_ave = sum_d / len_d\n",
    "print( total_ave)\n",
    "\n",
    "#5日平均\n",
    "# #移動平均 same　→　arg1の数だけ移動平均を計算してくれる　vははみださない\n",
    "# #full　→　vがはみだす\n",
    "c_ave = move_average(hits, CREATURE_N)\n",
    "\n",
    "#7日平均\n",
    "s_ave = move_average(hits, STANDARD_N)"
   ]
  },
  {
   "cell_type": "code",
   "execution_count": null,
   "metadata": {},
   "outputs": [],
   "source": [
    "len(hits)"
   ]
  },
  {
   "cell_type": "code",
   "execution_count": null,
   "metadata": {},
   "outputs": [],
   "source": [
    "#見頃推定\n",
    "\n",
    "dict_n = {}\n",
    "if CREATURE_N > STANDARD_N:\n",
    "    dict_n['big_n'] = CREATURE_N\n",
    "    dict_n['small_n'] = STANDARD_N\n",
    "else:\n",
    "    dict_n['big_n'] = STANDARD_N\n",
    "    dict_n['small_n'] = CREATURE_N\n",
    "CONTINUE_N = dict_n['small_n']/2\n",
    "\n",
    "big_ave = s_ave\n",
    "small_ave = c_ave\n",
    "infer = []\n",
    "continue_cnt = 0\n",
    "for i, l in enumerate(list_d):\n",
    "    if small_ave[i] < big_ave[i]:\n",
    "        continue_cnt = 0\n",
    "    else:\n",
    "        continue_cnt += 1\n",
    "        if continue_cnt >= CONTINUE_N and list_d[ i - 1 ][2] >= total_ave:\n",
    "            infer.append( [ l[0], l[1] ] )\n",
    "\n",
    "print(infer)"
   ]
  },
  {
   "cell_type": "code",
   "execution_count": null,
   "metadata": {},
   "outputs": [],
   "source": [
    "START_DATE = dt.date(2015, 3, 1)\n",
    "END_DATE = dt.date(2015, 4,30)\n",
    "#x軸を作成（日付），y軸を作成（件数），\n",
    "x_dates = []\n",
    "y_hits = []\n",
    "for i, l in enumerate(list_d):\n",
    "    x_date = text_date_to_date(l)\n",
    "    \n",
    "    if x_date < START_DATE:\n",
    "        continue\n",
    "        \n",
    "    x_dates.append( x_date )\n",
    "    y_hits.append( l[2] )\n",
    "    if x_date == END_DATE:\n",
    "        break\n",
    "\n",
    "# inferのdate配列も用意 開始と終了の二次元配列にする\n",
    "inters = []\n",
    "inter = []\n",
    "for i, l in enumerate(infer):\n",
    "    check_date = text_date_to_date(l)\n",
    "    if not inter:\n",
    "        inter = [ check_date, check_date ]\n",
    "    \n",
    "    if ( check_date - inter[1] ).days > 1:\n",
    "        inters.append(inter)\n",
    "        inter = [ check_date, check_date ]\n",
    "    else:\n",
    "        inter[1] = check_date\n",
    "        if i+1 == len(infer):\n",
    "            inters.append(inter)\n",
    "\n"
   ]
  },
  {
   "cell_type": "code",
   "execution_count": 7,
   "metadata": {},
   "outputs": [
    {
     "ename": "NameError",
     "evalue": "name 'inters' is not defined",
     "output_type": "error",
     "traceback": [
      "\u001b[0;31m---------------------------------------------------------------------------\u001b[0m",
      "\u001b[0;31mNameError\u001b[0m                                 Traceback (most recent call last)",
      "\u001b[0;32m<ipython-input-7-4a4b1b81c514>\u001b[0m in \u001b[0;36m<module>\u001b[0;34m\u001b[0m\n\u001b[0;32m----> 1\u001b[0;31m \u001b[0;34m[\u001b[0m\u001b[0mi\u001b[0m \u001b[0;32mfor\u001b[0m \u001b[0mi\u001b[0m \u001b[0;32min\u001b[0m \u001b[0minters\u001b[0m\u001b[0;34m]\u001b[0m\u001b[0;34m\u001b[0m\u001b[0;34m\u001b[0m\u001b[0m\n\u001b[0m",
      "\u001b[0;31mNameError\u001b[0m: name 'inters' is not defined"
     ]
    }
   ],
   "source": [
    "[i for i in inters]"
   ]
  },
  {
   "cell_type": "code",
   "execution_count": 8,
   "metadata": {},
   "outputs": [
    {
     "ename": "NameError",
     "evalue": "name 'x_dates' is not defined",
     "output_type": "error",
     "traceback": [
      "\u001b[0;31m---------------------------------------------------------------------------\u001b[0m",
      "\u001b[0;31mNameError\u001b[0m                                 Traceback (most recent call last)",
      "\u001b[0;32m<ipython-input-8-7a318d068df4>\u001b[0m in \u001b[0;36m<module>\u001b[0;34m\u001b[0m\n\u001b[0;32m----> 1\u001b[0;31m \u001b[0mx\u001b[0m \u001b[0;34m=\u001b[0m \u001b[0mx_dates\u001b[0m\u001b[0;34m\u001b[0m\u001b[0;34m\u001b[0m\u001b[0m\n\u001b[0m\u001b[1;32m      2\u001b[0m \u001b[0;34m\u001b[0m\u001b[0m\n\u001b[1;32m      3\u001b[0m \u001b[0my_h\u001b[0m \u001b[0;34m=\u001b[0m \u001b[0my_hits\u001b[0m\u001b[0;34m\u001b[0m\u001b[0;34m\u001b[0m\u001b[0m\n\u001b[1;32m      4\u001b[0m \u001b[0my_t_ave\u001b[0m \u001b[0;34m=\u001b[0m \u001b[0;34m[\u001b[0m \u001b[0mtotal_ave\u001b[0m \u001b[0;34m]\u001b[0m \u001b[0;34m*\u001b[0m \u001b[0mlen\u001b[0m\u001b[0;34m(\u001b[0m\u001b[0my_h\u001b[0m\u001b[0;34m)\u001b[0m\u001b[0;34m\u001b[0m\u001b[0;34m\u001b[0m\u001b[0m\n\u001b[1;32m      5\u001b[0m \u001b[0;34m\u001b[0m\u001b[0m\n",
      "\u001b[0;31mNameError\u001b[0m: name 'x_dates' is not defined"
     ]
    }
   ],
   "source": [
    "x = x_dates\n",
    "\n",
    "y_h = y_hits\n",
    "y_t_ave = [ total_ave ] * len(y_h)\n",
    "\n",
    "y_c_ave = move_average(y_h, CREATURE_N)\n",
    "y_s_ave =  move_average(y_h, STANDARD_N)\n",
    "\n",
    "fig = plt.figure(figsize=(10,10),dpi=200)\n",
    "ax = fig.add_subplot(1, 1, 1)\n",
    "\n",
    "ax.bar( x, y_h, width=0.6, label=' hit kensu ')\n",
    "ax.plot(x,y_t_ave,'k--', label=' 1nen ido heikin ')\n",
    "ax.plot(x,y_c_ave,'g', label=' 5 nichi ido heikin ')\n",
    "ax.plot(x,y_s_ave,'y--', label=' 7 nichi ido heikin ')\n",
    "\n",
    "for inter in inters:\n",
    "    if inter[0] in x:\n",
    "        ax.axvspan(inter[0], inter[1], alpha=0.4, color=\"r\", label='migoro')\n",
    "\n",
    "\n",
    "# ax.set_xticklabels(x,rotation=30)\n",
    "\n",
    "ax.tick_params(axis='both',labelsize=9)\n",
    "\n",
    "ax.legend()\n",
    "\n",
    "# plt.grid()\n",
    "# plt.show()\n",
    "fig.autofmt_xdate()\n",
    "# 保存\n",
    "plt.savefig(\"tk_plot.png\")"
   ]
  },
  {
   "cell_type": "code",
   "execution_count": 9,
   "metadata": {},
   "outputs": [
    {
     "ename": "NameError",
     "evalue": "name 'infer' is not defined",
     "output_type": "error",
     "traceback": [
      "\u001b[0;31m---------------------------------------------------------------------------\u001b[0m",
      "\u001b[0;31mNameError\u001b[0m                                 Traceback (most recent call last)",
      "\u001b[0;32m<ipython-input-9-b7fc81ff5171>\u001b[0m in \u001b[0;36m<module>\u001b[0;34m\u001b[0m\n\u001b[0;32m----> 1\u001b[0;31m \u001b[0mprint\u001b[0m\u001b[0;34m(\u001b[0m\u001b[0minfer\u001b[0m\u001b[0;34m)\u001b[0m\u001b[0;34m\u001b[0m\u001b[0;34m\u001b[0m\u001b[0m\n\u001b[0m",
      "\u001b[0;31mNameError\u001b[0m: name 'infer' is not defined"
     ]
    }
   ],
   "source": [
    "print(infer)"
   ]
  },
  {
   "cell_type": "markdown",
   "metadata": {},
   "source": [
    "## kleinbergのバースト"
   ]
  },
  {
   "cell_type": "code",
   "execution_count": 10,
   "metadata": {},
   "outputs": [],
   "source": [
    "def daterange(start, end):\n",
    "  for n in range((end - start).days):\n",
    "    yield start + timedelta(n)"
   ]
  },
  {
   "cell_type": "code",
   "execution_count": 11,
   "metadata": {},
   "outputs": [],
   "source": [
    "def burst_detection(list_d, list_d_all, dates):\n",
    "    #x軸を作成（日付），y軸を作成（件数），\n",
    "    d = date_hit_list(list_d)\n",
    "    dates = d[0]\n",
    "    hits = d[1]\n",
    "\n",
    "    d_all = date_hit_list(list_d_all)\n",
    "    # dates_all = date_hit_list_all[0]\n",
    "    hits_all = d_all[1]\n",
    "    \n",
    "    #number of target events at each time point\n",
    "    r = np.array(hits, dtype=float)\n",
    "    #total number of events at each time point\n",
    "    d = np.array(hits_all, dtype=float)\n",
    "    #number of time points\n",
    "    n = len(r)\n",
    "\n",
    "    q, d, r, p = bd.burst_detection(r,d,n,s=2,gamma=1,smooth_win=1)\n",
    "    bursts = bd.enumerate_bursts(q, 'burstLabel')\n",
    "\n",
    "    #find weight of bursts\n",
    "    weighted_bursts = bd.burst_weights(bursts,r,d,p)\n",
    "\n",
    "    print('observed probabilities: ')\n",
    "    # print(str(r/d) )\n",
    "\n",
    "    print( 'optimal state sequence: ')\n",
    "    print(str(q.T) )\n",
    "\n",
    "    print( 'baseline probability: ' + str(p[0]) )\n",
    "\n",
    "    print( 'bursty probability: ' + str(p[1]) )\n",
    "\n",
    "    print( 'weighted bursts:' )\n",
    "    print( weighted_bursts)\n",
    "    print(weighted_bursts.iloc[2, 1])\n",
    "    \n",
    "    return(weighted_bursts)"
   ]
  },
  {
   "cell_type": "code",
   "execution_count": 12,
   "metadata": {},
   "outputs": [],
   "source": [
    "# correct: [start_date, end_date]\n",
    "def eva(dates, correct, weighted_bursts):\n",
    "    corrects = dates[correct[0]:correct[1]] \n",
    "    bursts = []\n",
    "    for i in range(0, weighted_bursts):\n",
    "        bursts.extend(dates[[weighted_bursts.iloc[i, 1]] : [weighted_bursts.iloc[i, 2]]])\n",
    "                            \n",
    "    period = corrects + bursts\n",
    "    START_DATE = min(period)\n",
    "    END_DATE = max(period)\n",
    "\n",
    "    tp, fn, fp = 0, 0, 0\n",
    "    for date in daterange(START_DATE, END_DATE):\n",
    "        if date in corrects :\n",
    "            if date in bursts:\n",
    "                tp = tp + 1\n",
    "            else :\n",
    "                fn = fn + 1\n",
    "        elif date in bursts:\n",
    "            fp = fp + 1\n",
    "            \n",
    "    rec = tp / (tp + fn)\n",
    "    pre = tp / (tp + fp)\n",
    "    fscore = (2 * rec * pre) /(rec + pre)\n",
    "                            \n",
    "    print('rec', rec)\n",
    "    print('pre', pre)\n",
    "    print('F-score', fscore)\n",
    "    "
   ]
  },
  {
   "cell_type": "code",
   "execution_count": 16,
   "metadata": {},
   "outputs": [
    {
     "ename": "FileNotFoundError",
     "evalue": "[Errno 2] No such file or directory: 'hk_all.txt'",
     "output_type": "error",
     "traceback": [
      "\u001b[0;31m---------------------------------------------------------------------------\u001b[0m",
      "\u001b[0;31mFileNotFoundError\u001b[0m                         Traceback (most recent call last)",
      "\u001b[0;32m<ipython-input-16-f9ecb10e394f>\u001b[0m in \u001b[0;36m<module>\u001b[0;34m\u001b[0m\n\u001b[1;32m      5\u001b[0m \u001b[0mcorrect\u001b[0m \u001b[0;34m=\u001b[0m \u001b[0;34m[\u001b[0m\u001b[0mtext_date_to_date\u001b[0m\u001b[0;34m(\u001b[0m\u001b[0;34m[\u001b[0m\u001b[0;36m4\u001b[0m\u001b[0;34m,\u001b[0m \u001b[0;36m30\u001b[0m\u001b[0;34m]\u001b[0m\u001b[0;34m)\u001b[0m\u001b[0;34m,\u001b[0m \u001b[0mtext_date_to_date\u001b[0m\u001b[0;34m(\u001b[0m\u001b[0;34m[\u001b[0m\u001b[0;36m5\u001b[0m\u001b[0;34m,\u001b[0m\u001b[0;36m5\u001b[0m\u001b[0;34m]\u001b[0m\u001b[0;34m)\u001b[0m\u001b[0;34m]\u001b[0m\u001b[0;34m\u001b[0m\u001b[0;34m\u001b[0m\u001b[0m\n\u001b[1;32m      6\u001b[0m \u001b[0;34m\u001b[0m\u001b[0m\n\u001b[0;32m----> 7\u001b[0;31m \u001b[0;32mwith\u001b[0m \u001b[0mopen\u001b[0m \u001b[0;34m(\u001b[0m\u001b[0;34m'hk_all.txt'\u001b[0m\u001b[0;34m,\u001b[0m \u001b[0;34m'r'\u001b[0m\u001b[0;34m)\u001b[0m \u001b[0;32mas\u001b[0m \u001b[0maf\u001b[0m\u001b[0;34m:\u001b[0m\u001b[0;34m\u001b[0m\u001b[0;34m\u001b[0m\u001b[0m\n\u001b[0m\u001b[1;32m      8\u001b[0m     \u001b[0mlist_d_all\u001b[0m \u001b[0;34m=\u001b[0m  \u001b[0mconvert_list\u001b[0m\u001b[0;34m(\u001b[0m\u001b[0maf\u001b[0m\u001b[0;34m.\u001b[0m\u001b[0mreadlines\u001b[0m\u001b[0;34m(\u001b[0m\u001b[0;34m)\u001b[0m\u001b[0;34m)\u001b[0m\u001b[0;34m\u001b[0m\u001b[0;34m\u001b[0m\u001b[0m\n\u001b[1;32m      9\u001b[0m \u001b[0;34m\u001b[0m\u001b[0m\n",
      "\u001b[0;31mFileNotFoundError\u001b[0m: [Errno 2] No such file or directory: 'hk_all.txt'"
     ]
    }
   ],
   "source": [
    "exts = ['pmi', 'soa']\n",
    "rates = range(10, 101, 10)\n",
    "result_dir = '/Users/lasurstein/study/kenkyu/work/result/count/'\n",
    "\n",
    "correct = [text_date_to_date([4, 30]), text_date_to_date([5,5])]\n",
    "\n",
    "all_file_path = result_dir + 'hk_all.txt'\n",
    "with open (all_file_path, 'r') as af:\n",
    "    list_d_all =  convert_list(af.readlines())\n",
    "    \n",
    "for ext in exts:\n",
    "    for rate in rates:\n",
    "        filename = result_dir + 'hk_s_' + ext + '_' + rate + '.txt'\n",
    "        with open(filename, 'r') as sf:\n",
    "            list_d =  convert_list(sf.readlines())\n",
    "            weighted_bursts = burst_detection(list_d, list_d_all, dates)\n",
    "            eva(dates, correct, weighted_bursts)"
   ]
  },
  {
   "cell_type": "code",
   "execution_count": null,
   "metadata": {},
   "outputs": [],
   "source": []
  }
 ],
 "metadata": {
  "kernelspec": {
   "display_name": "Python 3",
   "language": "python",
   "name": "python3"
  },
  "language_info": {
   "codemirror_mode": {
    "name": "ipython",
    "version": 3
   },
   "file_extension": ".py",
   "mimetype": "text/x-python",
   "name": "python",
   "nbconvert_exporter": "python",
   "pygments_lexer": "ipython3",
   "version": "3.7.5"
  }
 },
 "nbformat": 4,
 "nbformat_minor": 2
}
